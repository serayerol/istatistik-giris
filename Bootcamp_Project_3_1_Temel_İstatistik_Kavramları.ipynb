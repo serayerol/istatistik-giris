{
 "cells": [
  {
   "cell_type": "markdown",
   "metadata": {},
   "source": [
    "## Bootcamp | Project 3.1 | Temel İstatistik Kavramları"
   ]
  },
  {
   "cell_type": "code",
   "execution_count": 1,
   "metadata": {},
   "outputs": [],
   "source": [
    "import numpy as np\n",
    "import pandas as pd\n",
    "import array as arr\n",
    "import matplotlib.pyplot as plt\n",
    "import warnings\n",
    "warnings.filterwarnings('ignore')"
   ]
  },
  {
   "cell_type": "code",
   "execution_count": 2,
   "metadata": {},
   "outputs": [
    {
     "data": {
      "text/html": [
       "<div>\n",
       "<style scoped>\n",
       "    .dataframe tbody tr th:only-of-type {\n",
       "        vertical-align: middle;\n",
       "    }\n",
       "\n",
       "    .dataframe tbody tr th {\n",
       "        vertical-align: top;\n",
       "    }\n",
       "\n",
       "    .dataframe thead th {\n",
       "        text-align: right;\n",
       "    }\n",
       "</style>\n",
       "<table border=\"1\" class=\"dataframe\">\n",
       "  <thead>\n",
       "    <tr style=\"text-align: right;\">\n",
       "      <th></th>\n",
       "      <th>Height</th>\n",
       "      <th>Weight</th>\n",
       "      <th>Index</th>\n",
       "    </tr>\n",
       "    <tr>\n",
       "      <th>Gender</th>\n",
       "      <th></th>\n",
       "      <th></th>\n",
       "      <th></th>\n",
       "    </tr>\n",
       "  </thead>\n",
       "  <tbody>\n",
       "    <tr>\n",
       "      <td>Male</td>\n",
       "      <td>174</td>\n",
       "      <td>96</td>\n",
       "      <td>4</td>\n",
       "    </tr>\n",
       "    <tr>\n",
       "      <td>Male</td>\n",
       "      <td>189</td>\n",
       "      <td>87</td>\n",
       "      <td>2</td>\n",
       "    </tr>\n",
       "    <tr>\n",
       "      <td>Female</td>\n",
       "      <td>185</td>\n",
       "      <td>110</td>\n",
       "      <td>4</td>\n",
       "    </tr>\n",
       "    <tr>\n",
       "      <td>Female</td>\n",
       "      <td>195</td>\n",
       "      <td>104</td>\n",
       "      <td>3</td>\n",
       "    </tr>\n",
       "    <tr>\n",
       "      <td>Male</td>\n",
       "      <td>149</td>\n",
       "      <td>61</td>\n",
       "      <td>3</td>\n",
       "    </tr>\n",
       "  </tbody>\n",
       "</table>\n",
       "</div>"
      ],
      "text/plain": [
       "        Height  Weight  Index\n",
       "Gender                       \n",
       "Male       174      96      4\n",
       "Male       189      87      2\n",
       "Female     185     110      4\n",
       "Female     195     104      3\n",
       "Male       149      61      3"
      ]
     },
     "execution_count": 2,
     "metadata": {},
     "output_type": "execute_result"
    }
   ],
   "source": [
    "ndf=pd.read_csv('500_Person_Gender_Height_Weight_Index.csv', index_col=0)\n",
    "ndf.head(5)\n"
   ]
  },
  {
   "cell_type": "code",
   "execution_count": 3,
   "metadata": {
    "scrolled": true
   },
   "outputs": [
    {
     "data": {
      "image/png": "[encoded data removed]",
      "text/plain": [
       "<Figure size 432x288 with 6 Axes>"
      ]
     },
     "metadata": {
      "needs_background": "light"
     },
     "output_type": "display_data"
    }
   ],
   "source": [
    "ndf.hist(layout=(3,2),sharex=True)\n",
    "plt.show()"
   ]
  },
  {
   "cell_type": "code",
   "execution_count": 4,
   "metadata": {
    "scrolled": true
   },
   "outputs": [
    {
     "name": "stdout",
     "output_type": "stream",
     "text": [
      "Height Mean: 169.944\n",
      "Height Median: 170.5\n",
      "Weight Mean: 106.0\n",
      "Weight Median: 106.0\n"
     ]
    }
   ],
   "source": [
    "# Mean Calculations w/formulas\n",
    "print('Height Mean:',np.mean(ndf['Height']))\n",
    "print('Height Median:',np.median(ndf['Height']))\n",
    "print('Weight Mean:',np.mean(ndf['Weight']))\n",
    "print('Weight Median:',np.median(ndf['Weight']))"
   ]
  },
  {
   "cell_type": "code",
   "execution_count": 5,
   "metadata": {
    "scrolled": true
   },
   "outputs": [
    {
     "name": "stdout",
     "output_type": "stream",
     "text": [
      "Height Mean: 169.944\n",
      "Weight Mean: 106.0\n"
     ]
    }
   ],
   "source": [
    "# Mean Calculations without formulas\n",
    "lenH=len(ndf['Height'])\n",
    "sumH=sum(ndf['Height'])\n",
    "print('Height Mean:',sumH/lenH)\n",
    "lenW=len(ndf['Weight'])\n",
    "sumW=sum(ndf['Weight'])\n",
    "print('Weight Mean:', sumW/lenW)"
   ]
  },
  {
   "cell_type": "code",
   "execution_count": 6,
   "metadata": {},
   "outputs": [
    {
     "name": "stdout",
     "output_type": "stream",
     "text": [
      "Std: 32.38260746964435\n",
      "StdErr: 1.4481942318163443\n",
      "Var: 1048.633266533066\n",
      "Var/: 1048.633266533066\n"
     ]
    }
   ],
   "source": [
    "## Weight based calculations(std,stderr,var)\n",
    "print('Std:',np.std(ndf['Weight'], ddof=1))\n",
    "print('StdErr:',np.std(ndf['Weight'] ,ddof=1) / np.sqrt(len(ndf['Weight'])))\n",
    "print('Var:',np.var(ndf['Weight'], ddof=1))\n",
    "print('Var/:',ndf['Weight'].var())"
   ]
  },
  {
   "cell_type": "code",
   "execution_count": 7,
   "metadata": {
    "scrolled": false
   },
   "outputs": [
    {
     "name": "stdout",
     "output_type": "stream",
     "text": [
      "Std: 16.37526067959376\n",
      "StdErr: 0.732323920577021\n",
      "Var: 268.1491623246496\n",
      "Var/: 268.1491623246496\n"
     ]
    }
   ],
   "source": [
    "## Height based calculations(std,stderr,var)\n",
    "print('Std:',np.std(ndf['Height'], ddof=1))\n",
    "print('StdErr:',np.std(ndf['Height'] ,ddof=1) / np.sqrt(len(ndf['Height'])))\n",
    "print('Var:',np.var(ndf['Height'], ddof=1))\n",
    "print('Var/:',ndf['Height'].var())"
   ]
  },
  {
   "cell_type": "code",
   "execution_count": 8,
   "metadata": {
    "scrolled": false
   },
   "outputs": [
    {
     "name": "stdout",
     "output_type": "stream",
     "text": [
      "Mode: 188\n"
     ]
    }
   ],
   "source": [
    "import statistics\n",
    "print('Mode:',statistics.mode(ndf['Height']))"
   ]
  },
  {
   "cell_type": "markdown",
   "metadata": {},
   "source": [
    "### Creation of dataset"
   ]
  },
  {
   "cell_type": "code",
   "execution_count": 9,
   "metadata": {
    "scrolled": true
   },
   "outputs": [],
   "source": [
    "data = pd.DataFrame()\n",
    "data['Machine'] = ['M1'] * 100 + ['M2'] * 100\n",
    "data['quantity'] = np.append(np.random.normal(20, 8, 100), np.random.normal(90, 5, 100))\n",
    "data['cycle-ms'] = np.append(np.random.normal(195, 25, 100), np.random.normal(166, 15, 100)) #operator cycle"
   ]
  },
  {
   "cell_type": "code",
   "execution_count": 10,
   "metadata": {},
   "outputs": [
    {
     "name": "stdout",
     "output_type": "stream",
     "text": [
      "<class 'pandas.core.frame.DataFrame'>\n",
      "RangeIndex: 200 entries, 0 to 199\n",
      "Data columns (total 3 columns):\n",
      "Machine     200 non-null object\n",
      "quantity    200 non-null float64\n",
      "cycle-ms    200 non-null float64\n",
      "dtypes: float64(2), object(1)\n",
      "memory usage: 4.8+ KB\n"
     ]
    },
    {
     "data": {
      "text/html": [
       "<div>\n",
       "<style scoped>\n",
       "    .dataframe tbody tr th:only-of-type {\n",
       "        vertical-align: middle;\n",
       "    }\n",
       "\n",
       "    .dataframe tbody tr th {\n",
       "        vertical-align: top;\n",
       "    }\n",
       "\n",
       "    .dataframe thead th {\n",
       "        text-align: right;\n",
       "    }\n",
       "</style>\n",
       "<table border=\"1\" class=\"dataframe\">\n",
       "  <thead>\n",
       "    <tr style=\"text-align: right;\">\n",
       "      <th></th>\n",
       "      <th>Machine</th>\n",
       "      <th>quantity</th>\n",
       "      <th>cycle-ms</th>\n",
       "    </tr>\n",
       "  </thead>\n",
       "  <tbody>\n",
       "    <tr>\n",
       "      <td>0</td>\n",
       "      <td>M1</td>\n",
       "      <td>16.012652</td>\n",
       "      <td>216.285106</td>\n",
       "    </tr>\n",
       "    <tr>\n",
       "      <td>1</td>\n",
       "      <td>M1</td>\n",
       "      <td>18.501551</td>\n",
       "      <td>186.731316</td>\n",
       "    </tr>\n",
       "    <tr>\n",
       "      <td>2</td>\n",
       "      <td>M1</td>\n",
       "      <td>19.384712</td>\n",
       "      <td>218.319839</td>\n",
       "    </tr>\n",
       "    <tr>\n",
       "      <td>3</td>\n",
       "      <td>M1</td>\n",
       "      <td>26.382215</td>\n",
       "      <td>203.033717</td>\n",
       "    </tr>\n",
       "    <tr>\n",
       "      <td>4</td>\n",
       "      <td>M1</td>\n",
       "      <td>14.246866</td>\n",
       "      <td>197.929896</td>\n",
       "    </tr>\n",
       "    <tr>\n",
       "      <td>5</td>\n",
       "      <td>M1</td>\n",
       "      <td>12.170398</td>\n",
       "      <td>180.947195</td>\n",
       "    </tr>\n",
       "    <tr>\n",
       "      <td>6</td>\n",
       "      <td>M1</td>\n",
       "      <td>0.789022</td>\n",
       "      <td>170.199307</td>\n",
       "    </tr>\n",
       "    <tr>\n",
       "      <td>7</td>\n",
       "      <td>M1</td>\n",
       "      <td>17.573400</td>\n",
       "      <td>173.702710</td>\n",
       "    </tr>\n",
       "    <tr>\n",
       "      <td>8</td>\n",
       "      <td>M1</td>\n",
       "      <td>17.843109</td>\n",
       "      <td>164.362599</td>\n",
       "    </tr>\n",
       "    <tr>\n",
       "      <td>9</td>\n",
       "      <td>M1</td>\n",
       "      <td>16.183689</td>\n",
       "      <td>216.561569</td>\n",
       "    </tr>\n",
       "  </tbody>\n",
       "</table>\n",
       "</div>"
      ],
      "text/plain": [
       "  Machine   quantity    cycle-ms\n",
       "0      M1  16.012652  216.285106\n",
       "1      M1  18.501551  186.731316\n",
       "2      M1  19.384712  218.319839\n",
       "3      M1  26.382215  203.033717\n",
       "4      M1  14.246866  197.929896\n",
       "5      M1  12.170398  180.947195\n",
       "6      M1   0.789022  170.199307\n",
       "7      M1  17.573400  173.702710\n",
       "8      M1  17.843109  164.362599\n",
       "9      M1  16.183689  216.561569"
      ]
     },
     "execution_count": 10,
     "metadata": {},
     "output_type": "execute_result"
    }
   ],
   "source": [
    "data.info()\n",
    "data.head(10)"
   ]
  },
  {
   "cell_type": "code",
   "execution_count": 11,
   "metadata": {},
   "outputs": [
    {
     "data": {
      "image/png": "[encoded data removed]",
      "text/plain": [
       "<Figure size 432x288 with 2 Axes>"
      ]
     },
     "metadata": {
      "needs_background": "light"
     },
     "output_type": "display_data"
    }
   ],
   "source": [
    "data.hist(layout=(2, 1), sharex=True)\n",
    "plt.show()"
   ]
  },
  {
   "cell_type": "code",
   "execution_count": 12,
   "metadata": {},
   "outputs": [
    {
     "name": "stdout",
     "output_type": "stream",
     "text": [
      "Machine          M2\n",
      "quantity    107.299\n",
      "cycle-ms    255.487\n",
      "dtype: object\n",
      "Machine           M1\n",
      "quantity    0.789022\n",
      "cycle-ms     134.653\n",
      "dtype: object\n"
     ]
    }
   ],
   "source": [
    "print(data.max())\n",
    "print(data.min())"
   ]
  },
  {
   "cell_type": "code",
   "execution_count": 13,
   "metadata": {
    "scrolled": true
   },
   "outputs": [
    {
     "name": "stdout",
     "output_type": "stream",
     "text": [
      "Mean: 55.6679642212699\n",
      "Mean/manually: 55.6679642212699\n",
      "Median: 55.85437332198\n",
      "Std: 34.97485822349503\n",
      "StdErr: 2.4730959420871423\n",
      "Var: 1223.2407077535781\n",
      "Var/: 1223.2407077535781\n"
     ]
    }
   ],
   "source": [
    "## Units produced daily\n",
    "print('Mean:',np.mean(data['quantity']))\n",
    "print('Mean/manually:',sum(data['quantity']) / len(data['quantity']))\n",
    "print('Median:',np.median(data['quantity']))\n",
    "print('Std:',np.std(data['quantity'], ddof=1))\n",
    "print('StdErr:',np.std(data['quantity'] ,ddof=1) / np.sqrt(len(data['quantity'])))\n",
    "print('Var:',np.var(data['quantity'], ddof=1))\n",
    "print('Var/:',data['quantity'].var())"
   ]
  },
  {
   "cell_type": "code",
   "execution_count": 14,
   "metadata": {},
   "outputs": [
    {
     "name": "stdout",
     "output_type": "stream",
     "text": [
      "Mean: 179.62219197586822\n",
      "Mean/manually: 179.62219197586822\n",
      "Median: 174.34629967165915\n",
      "Std: 22.872988864956792\n",
      "StdErr: 1.617364553241534\n",
      "Var: 523.1736196164373\n",
      "Var/: 523.1736196164373\n"
     ]
    }
   ],
   "source": [
    "# Cycle time of \n",
    "print('Mean:',np.mean(data['cycle-ms']))\n",
    "print('Mean/manually:',sum(data['cycle-ms']) / len(data['cycle-ms']))\n",
    "print('Median:',np.median(data['cycle-ms']))\n",
    "print('Std:',np.std(data['cycle-ms'], ddof=1))\n",
    "print('StdErr:',np.std(data['cycle-ms'] ,ddof=1) / np.sqrt(len(data['cycle-ms'])))\n",
    "print('Var:',np.var(data['cycle-ms'], ddof=1))\n",
    "print('Var/:',data['cycle-ms'].var())"
   ]
  },
  {
   "cell_type": "code",
   "execution_count": 15,
   "metadata": {},
   "outputs": [
    {
     "name": "stdout",
     "output_type": "stream",
     "text": [
      "quantity     55.667964\n",
      "cycle-ms    179.622192\n",
      "dtype: float64\n",
      "quantity    34.974858\n",
      "cycle-ms    22.872989\n",
      "dtype: float64\n"
     ]
    }
   ],
   "source": [
    "print(data.mean())\n",
    "print(data.std(ddof=1))"
   ]
  },
  {
   "cell_type": "code",
   "execution_count": 16,
   "metadata": {
    "scrolled": true
   },
   "outputs": [
    {
     "name": "stdout",
     "output_type": "stream",
     "text": [
      "55.6679642212699\n",
      "34.97485822349503\n",
      "Weighted Quantity Produced: 55.6679642212699\n"
     ]
    }
   ],
   "source": [
    "print(data.quantity.mean())\n",
    "print(data.quantity.std())\n",
    "weight_mean = data.quantity.mean()\n",
    "data.quantity.fillna(weight_mean)\n",
    "print(\"Weighted Quantity Produced: {}\".format(weight_mean))"
   ]
  }
 ],
 "metadata": {
  "kernelspec": {
   "display_name": "Python 3",
   "language": "python",
   "name": "python3"
  },
  "language_info": {
   "codemirror_mode": {
    "name": "ipython",
    "version": 3
   },
   "file_extension": ".py",
   "mimetype": "text/x-python",
   "name": "python",
   "nbconvert_exporter": "python",
   "pygments_lexer": "ipython3",
   "version": "3.7.4"
  }
 },
 "nbformat": 4,
 "nbformat_minor": 2
}
