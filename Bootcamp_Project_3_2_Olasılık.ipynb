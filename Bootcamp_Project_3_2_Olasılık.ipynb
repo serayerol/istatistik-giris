{
 "cells": [
  {
   "cell_type": "markdown",
   "metadata": {},
   "source": [
    "## Bootcamp | Project 3.2 | Olasılık"
   ]
  },
  {
   "cell_type": "code",
   "execution_count": 1,
   "metadata": {},
   "outputs": [],
   "source": [
    "import numpy as np\n",
    "import pandas as pd\n",
    "import array as arr\n",
    "import matplotlib.pyplot as plt\n",
    "import warnings\n",
    "warnings.filterwarnings('ignore')"
   ]
  },
  {
   "cell_type": "code",
   "execution_count": 3,
   "metadata": {},
   "outputs": [
    {
     "name": "stdout",
     "output_type": "stream",
     "text": [
      "Probability of broken comp. by A company: 0.006\n",
      "Probability of broken comp. by B company: 0.008\n",
      "Probability of broken comp. by C company: 0.002\n"
     ]
    }
   ],
   "source": [
    "PA=0.40 \n",
    "PB=0.40\n",
    "PC=0.20\n",
    "PDA=0.015\n",
    "PDB=0.020\n",
    "PDC=0.010\n",
    "print('Probability of broken comp. by A company:',PA*PDA)\n",
    "print('Probability of broken comp. by B company:',PB*PDB)\n",
    "print('Probability of broken comp. by C company:',PC*PDC)"
   ]
  }
 ],
 "metadata": {
  "kernelspec": {
   "display_name": "Python 3",
   "language": "python",
   "name": "python3"
  },
  "language_info": {
   "codemirror_mode": {
    "name": "ipython",
    "version": 3
   },
   "file_extension": ".py",
   "mimetype": "text/x-python",
   "name": "python",
   "nbconvert_exporter": "python",
   "pygments_lexer": "ipython3",
   "version": "3.7.4"
  }
 },
 "nbformat": 4,
 "nbformat_minor": 2
}
