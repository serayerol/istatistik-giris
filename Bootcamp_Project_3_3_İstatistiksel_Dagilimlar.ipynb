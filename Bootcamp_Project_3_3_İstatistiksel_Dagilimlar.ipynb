{
 "cells": [
  {
   "cell_type": "markdown",
   "metadata": {},
   "source": [
    "## Bootcamp | Project 3.3 | İstatistiksel Dağılımlar"
   ]
  },
  {
   "cell_type": "code",
   "execution_count": 1,
   "metadata": {},
   "outputs": [],
   "source": [
    "import numpy as np\n",
    "import pandas as pd\n",
    "import array as arr\n",
    "import matplotlib.pyplot as plt\n",
    "import warnings\n",
    "warnings.filterwarnings('ignore')\n",
    "import math\n",
    "from scipy.stats import norm\n",
    "import seaborn as sns\n",
    "sns.set()"
   ]
  },
  {
   "cell_type": "code",
   "execution_count": 2,
   "metadata": {},
   "outputs": [
    {
     "name": "stdout",
     "output_type": "stream",
     "text": [
      "Enter minimum height/s of customers:140\n",
      "Enter maximum height/s of customers:200\n",
      "Enter sample space volume:100\n"
     ]
    }
   ],
   "source": [
    "height_min=input('Enter minimum height/s of customers:')\n",
    "while not height_min.isdigit():\n",
    "    print('Please enter digits')\n",
    "    height_min=input('Enter minimum height/s of customers:')\n",
    "height_max=input('Enter maximum height/s of customers:')\n",
    "while not height_max.isdigit():\n",
    "    print('Please enter digits')\n",
    "    height_max=input('Enter maximum height/s of customers:')\n",
    "sampleSpace=input('Enter sample space volume:')\n",
    "while not sampleSpace.isdigit():\n",
    "    print('Please enter digits')\n",
    "    sampleSpace=input('Enter sample space volume:')"
   ]
  },
  {
   "cell_type": "code",
   "execution_count": 5,
   "metadata": {
    "scrolled": false
   },
   "outputs": [
    {
     "name": "stdout",
     "output_type": "stream",
     "text": [
      "[140.05168807 141.2976847  141.89771556 143.1355062  143.42008535\n",
      " 143.92212292 145.04706102 145.27986368 145.43745365 145.88347743\n",
      " 146.23627698 146.79522832 150.0166565  150.84534854 151.53632805\n",
      " 151.61284452 152.01794956 152.32810594 152.84177949 153.05848721\n",
      " 153.16468565 153.35209334 153.69024043 154.74663076 155.47682532\n",
      " 155.57784498 156.43740233 157.32153641 159.11607705 159.23241156\n",
      " 159.52909664 160.80614359 161.79879588 162.26745457 162.43609242\n",
      " 163.38235467 163.8801381  163.9927936  165.74904625 166.53853978\n",
      " 167.34660144 167.64757642 168.13793989 169.35842164 169.42545414\n",
      " 169.67407951 171.36694125 171.44837807 171.84449842 173.5645131\n",
      " 176.32994506 176.6723511  177.35920419 177.4380453  177.8111863\n",
      " 179.40682019 179.66749933 179.7161031  180.11036512 180.44893302\n",
      " 180.55906018 180.67950931 180.68977444 180.93529072 181.88459842\n",
      " 181.99859151 182.59265051 182.91330394 184.71222194 184.80857034\n",
      " 184.89561403 184.9210692  185.02025478 186.11861548 186.35235041\n",
      " 186.36883447 186.56270544 186.93408773 187.09219419 187.31784066\n",
      " 187.95157527 190.84718997 190.90881824 191.04313742 191.37794217\n",
      " 191.38418191 192.45456519 192.72224686 193.5370535  193.68843884\n",
      " 193.98504316 194.25598746 194.81174716 195.00214134 198.3838197\n",
      " 198.44720192 198.86123714 199.46492204 199.47123885 199.86112641]\n"
     ]
    }
   ],
   "source": [
    "gym_dataset=np.random.uniform(int(height_min),int(height_max),int(sampleSpace))\n",
    "gym_dataset.sort()\n",
    "print(gym_dataset)"
   ]
  },
  {
   "cell_type": "code",
   "execution_count": 17,
   "metadata": {
    "scrolled": false
   },
   "outputs": [
    {
     "name": "stdout",
     "output_type": "stream",
     "text": [
      "[144.91956773 150.94537159 152.54143087 152.90727631 153.57023093\n",
      " 153.79536358 155.12407616 155.38311408 156.72242964 157.57117873\n",
      " 157.87277182 160.8235172  160.97579142 162.12509984 162.29315645\n",
      " 165.10543983 166.28308354 168.62081293 169.39915405 169.50383318\n",
      " 170.58396176 171.33502359 171.78412551 172.00383442 174.1782347\n",
      " 174.29266404 174.64150975 174.81741297 177.86625351 177.97718499\n",
      " 180.20660541 181.54077878 181.85660889 182.56406566 183.39315335\n",
      " 183.73042846 183.97780607 184.59222753 187.17556306 188.17783269\n",
      " 188.73268049 191.60080116 192.5499542  193.1504279  193.33511763\n",
      " 196.71502729 197.07004242 203.54616781 210.90010965 216.06729843]\n"
     ]
    }
   ],
   "source": [
    "gym_par=np.random.normal(np.mean(gym_dataset),np.std(gym_dataset),50)\n",
    "gym_par.sort()\n",
    "print(gym_par)"
   ]
  },
  {
   "cell_type": "code",
   "execution_count": 18,
   "metadata": {
    "scrolled": true
   },
   "outputs": [
    {
     "data": {
      "text/plain": [
       "(array([1., 0., 0., 0., 1., 2., 2., 2., 2., 1., 0., 2., 2., 0., 1., 1., 1.,\n",
       "        2., 3., 1., 3., 1., 0., 2., 1., 2., 1., 4., 0., 1., 2., 0., 1., 2.,\n",
       "        1., 0., 2., 0., 0., 0., 0., 1., 0., 0., 0., 0., 1., 0., 0., 1.]),\n",
       " array([144.91956773, 146.34252234, 147.76547695, 149.18843157,\n",
       "        150.61138618, 152.0343408 , 153.45729541, 154.88025002,\n",
       "        156.30320464, 157.72615925, 159.14911387, 160.57206848,\n",
       "        161.9950231 , 163.41797771, 164.84093232, 166.26388694,\n",
       "        167.68684155, 169.10979617, 170.53275078, 171.95570539,\n",
       "        173.37866001, 174.80161462, 176.22456924, 177.64752385,\n",
       "        179.07047846, 180.49343308, 181.91638769, 183.33934231,\n",
       "        184.76229692, 186.18525153, 187.60820615, 189.03116076,\n",
       "        190.45411538, 191.87706999, 193.30002461, 194.72297922,\n",
       "        196.14593383, 197.56888845, 198.99184306, 200.41479768,\n",
       "        201.83775229, 203.2607069 , 204.68366152, 206.10661613,\n",
       "        207.52957075, 208.95252536, 210.37547997, 211.79843459,\n",
       "        213.2213892 , 214.64434382, 216.06729843]),\n",
       " <a list of 50 Patch objects>)"
      ]
     },
     "execution_count": 18,
     "metadata": {},
     "output_type": "execute_result"
    },
    {
     "data": {
      "image/png": "[encoded data removed]",
      "text/plain": [
       "<Figure size 432x288 with 1 Axes>"
      ]
     },
     "metadata": {
      "needs_background": "light"
     },
     "output_type": "display_data"
    }
   ],
   "source": [
    "plt.hist(gym_par,bins=50)"
   ]
  },
  {
   "cell_type": "code",
   "execution_count": 19,
   "metadata": {
    "scrolled": true
   },
   "outputs": [
    {
     "name": "stdout",
     "output_type": "stream",
     "text": [
      "50\n",
      "100\n"
     ]
    },
    {
     "ename": "ValueError",
     "evalue": "x and y must be the same size",
     "output_type": "error",
     "traceback": [
      "\u001b[1;31m---------------------------------------------------------------------------\u001b[0m",
      "\u001b[1;31mValueError\u001b[0m                                Traceback (most recent call last)",
      "\u001b[1;32m<ipython-input-19-07e0df5c647a>\u001b[0m in \u001b[0;36m<module>\u001b[1;34m\u001b[0m\n\u001b[0;32m     10\u001b[0m \u001b[0mplt\u001b[0m\u001b[1;33m.\u001b[0m\u001b[0mxlabel\u001b[0m\u001b[1;33m(\u001b[0m\u001b[1;34m'Gym Height DataSet'\u001b[0m\u001b[1;33m,\u001b[0m \u001b[0mfontdict\u001b[0m \u001b[1;33m=\u001b[0m \u001b[0meksen_font\u001b[0m\u001b[1;33m)\u001b[0m\u001b[1;33m\u001b[0m\u001b[1;33m\u001b[0m\u001b[0m\n\u001b[0;32m     11\u001b[0m \u001b[0mplt\u001b[0m\u001b[1;33m.\u001b[0m\u001b[0mylabel\u001b[0m\u001b[1;33m(\u001b[0m\u001b[1;34m'Norm. Dist. Data Set'\u001b[0m\u001b[1;33m,\u001b[0m \u001b[0mfontdict\u001b[0m \u001b[1;33m=\u001b[0m \u001b[0meksen_font\u001b[0m\u001b[1;33m)\u001b[0m\u001b[1;33m\u001b[0m\u001b[1;33m\u001b[0m\u001b[0m\n\u001b[1;32m---> 12\u001b[1;33m \u001b[0mplt\u001b[0m\u001b[1;33m.\u001b[0m\u001b[0mscatter\u001b[0m\u001b[1;33m(\u001b[0m\u001b[0mgym_par\u001b[0m\u001b[1;33m,\u001b[0m \u001b[0mgym_dataset\u001b[0m\u001b[1;33m)\u001b[0m\u001b[1;33m\u001b[0m\u001b[1;33m\u001b[0m\u001b[0m\n\u001b[0m\u001b[0;32m     13\u001b[0m plt.plot([np.min(gym_par), np.max(gym_par)],\n\u001b[0;32m     14\u001b[0m          [np.min(gym_dataset), np.max(gym_dataset)], c='red')\n",
      "\u001b[1;32m~\\AppData\\Local\\Continuum\\anaconda3\\lib\\site-packages\\matplotlib\\pyplot.py\u001b[0m in \u001b[0;36mscatter\u001b[1;34m(x, y, s, c, marker, cmap, norm, vmin, vmax, alpha, linewidths, verts, edgecolors, plotnonfinite, data, **kwargs)\u001b[0m\n\u001b[0;32m   2845\u001b[0m         \u001b[0mverts\u001b[0m\u001b[1;33m=\u001b[0m\u001b[0mverts\u001b[0m\u001b[1;33m,\u001b[0m \u001b[0medgecolors\u001b[0m\u001b[1;33m=\u001b[0m\u001b[0medgecolors\u001b[0m\u001b[1;33m,\u001b[0m\u001b[1;33m\u001b[0m\u001b[1;33m\u001b[0m\u001b[0m\n\u001b[0;32m   2846\u001b[0m         plotnonfinite=plotnonfinite, **({\"data\": data} if data is not\n\u001b[1;32m-> 2847\u001b[1;33m         None else {}), **kwargs)\n\u001b[0m\u001b[0;32m   2848\u001b[0m     \u001b[0msci\u001b[0m\u001b[1;33m(\u001b[0m\u001b[0m__ret\u001b[0m\u001b[1;33m)\u001b[0m\u001b[1;33m\u001b[0m\u001b[1;33m\u001b[0m\u001b[0m\n\u001b[0;32m   2849\u001b[0m     \u001b[1;32mreturn\u001b[0m \u001b[0m__ret\u001b[0m\u001b[1;33m\u001b[0m\u001b[1;33m\u001b[0m\u001b[0m\n",
      "\u001b[1;32m~\\AppData\\Local\\Continuum\\anaconda3\\lib\\site-packages\\matplotlib\\__init__.py\u001b[0m in \u001b[0;36minner\u001b[1;34m(ax, data, *args, **kwargs)\u001b[0m\n\u001b[0;32m   1599\u001b[0m     \u001b[1;32mdef\u001b[0m \u001b[0minner\u001b[0m\u001b[1;33m(\u001b[0m\u001b[0max\u001b[0m\u001b[1;33m,\u001b[0m \u001b[1;33m*\u001b[0m\u001b[0margs\u001b[0m\u001b[1;33m,\u001b[0m \u001b[0mdata\u001b[0m\u001b[1;33m=\u001b[0m\u001b[1;32mNone\u001b[0m\u001b[1;33m,\u001b[0m \u001b[1;33m**\u001b[0m\u001b[0mkwargs\u001b[0m\u001b[1;33m)\u001b[0m\u001b[1;33m:\u001b[0m\u001b[1;33m\u001b[0m\u001b[1;33m\u001b[0m\u001b[0m\n\u001b[0;32m   1600\u001b[0m         \u001b[1;32mif\u001b[0m \u001b[0mdata\u001b[0m \u001b[1;32mis\u001b[0m \u001b[1;32mNone\u001b[0m\u001b[1;33m:\u001b[0m\u001b[1;33m\u001b[0m\u001b[1;33m\u001b[0m\u001b[0m\n\u001b[1;32m-> 1601\u001b[1;33m             \u001b[1;32mreturn\u001b[0m \u001b[0mfunc\u001b[0m\u001b[1;33m(\u001b[0m\u001b[0max\u001b[0m\u001b[1;33m,\u001b[0m \u001b[1;33m*\u001b[0m\u001b[0mmap\u001b[0m\u001b[1;33m(\u001b[0m\u001b[0msanitize_sequence\u001b[0m\u001b[1;33m,\u001b[0m \u001b[0margs\u001b[0m\u001b[1;33m)\u001b[0m\u001b[1;33m,\u001b[0m \u001b[1;33m**\u001b[0m\u001b[0mkwargs\u001b[0m\u001b[1;33m)\u001b[0m\u001b[1;33m\u001b[0m\u001b[1;33m\u001b[0m\u001b[0m\n\u001b[0m\u001b[0;32m   1602\u001b[0m \u001b[1;33m\u001b[0m\u001b[0m\n\u001b[0;32m   1603\u001b[0m         \u001b[0mbound\u001b[0m \u001b[1;33m=\u001b[0m \u001b[0mnew_sig\u001b[0m\u001b[1;33m.\u001b[0m\u001b[0mbind\u001b[0m\u001b[1;33m(\u001b[0m\u001b[0max\u001b[0m\u001b[1;33m,\u001b[0m \u001b[1;33m*\u001b[0m\u001b[0margs\u001b[0m\u001b[1;33m,\u001b[0m \u001b[1;33m**\u001b[0m\u001b[0mkwargs\u001b[0m\u001b[1;33m)\u001b[0m\u001b[1;33m\u001b[0m\u001b[1;33m\u001b[0m\u001b[0m\n",
      "\u001b[1;32m~\\AppData\\Local\\Continuum\\anaconda3\\lib\\site-packages\\matplotlib\\axes\\_axes.py\u001b[0m in \u001b[0;36mscatter\u001b[1;34m(self, x, y, s, c, marker, cmap, norm, vmin, vmax, alpha, linewidths, verts, edgecolors, plotnonfinite, **kwargs)\u001b[0m\n\u001b[0;32m   4442\u001b[0m         \u001b[0my\u001b[0m \u001b[1;33m=\u001b[0m \u001b[0mnp\u001b[0m\u001b[1;33m.\u001b[0m\u001b[0mma\u001b[0m\u001b[1;33m.\u001b[0m\u001b[0mravel\u001b[0m\u001b[1;33m(\u001b[0m\u001b[0my\u001b[0m\u001b[1;33m)\u001b[0m\u001b[1;33m\u001b[0m\u001b[1;33m\u001b[0m\u001b[0m\n\u001b[0;32m   4443\u001b[0m         \u001b[1;32mif\u001b[0m \u001b[0mx\u001b[0m\u001b[1;33m.\u001b[0m\u001b[0msize\u001b[0m \u001b[1;33m!=\u001b[0m \u001b[0my\u001b[0m\u001b[1;33m.\u001b[0m\u001b[0msize\u001b[0m\u001b[1;33m:\u001b[0m\u001b[1;33m\u001b[0m\u001b[1;33m\u001b[0m\u001b[0m\n\u001b[1;32m-> 4444\u001b[1;33m             \u001b[1;32mraise\u001b[0m \u001b[0mValueError\u001b[0m\u001b[1;33m(\u001b[0m\u001b[1;34m\"x and y must be the same size\"\u001b[0m\u001b[1;33m)\u001b[0m\u001b[1;33m\u001b[0m\u001b[1;33m\u001b[0m\u001b[0m\n\u001b[0m\u001b[0;32m   4445\u001b[0m \u001b[1;33m\u001b[0m\u001b[0m\n\u001b[0;32m   4446\u001b[0m         \u001b[1;32mif\u001b[0m \u001b[0ms\u001b[0m \u001b[1;32mis\u001b[0m \u001b[1;32mNone\u001b[0m\u001b[1;33m:\u001b[0m\u001b[1;33m\u001b[0m\u001b[1;33m\u001b[0m\u001b[0m\n",
      "\u001b[1;31mValueError\u001b[0m: x and y must be the same size"
     ]
    },
    {
     "data": {
      "image/png": "[encoded data removed]",
      "text/plain": [
       "<Figure size 800x500 with 1 Axes>"
      ]
     },
     "metadata": {
      "needs_background": "light"
     },
     "output_type": "display_data"
    }
   ],
   "source": [
    "gym_par.sort()\n",
    "gym_dataset.sort()\n",
    "print(len(gym_par))\n",
    "print(len(gym_dataset))\n",
    "\n",
    "plt.figure(figsize=(8,5), dpi = 100)\n",
    "heading_font = {'family': 'arial', 'color': 'red','weight': 'bold','size': 13 }\n",
    "eksen_font  = {'family': 'arial', 'color': 'blue','weight': 'bold','size': 10 }\n",
    "plt.title('Gym Height DataSet & Norm. Dist. Data Set', fontdict = heading_font)\n",
    "plt.xlabel('Gym Height DataSet', fontdict = eksen_font)\n",
    "plt.ylabel('Norm. Dist. Data Set', fontdict = eksen_font)\n",
    "plt.scatter(gym_par, gym_dataset)\n",
    "plt.plot([np.min(gym_par), np.max(gym_par)],\n",
    "         [np.min(gym_dataset), np.max(gym_dataset)], c='red')\n",
    "plt.show()"
   ]
  },
  {
   "cell_type": "markdown",
   "metadata": {},
   "source": [
    "### TSLA Stock Prices "
   ]
  },
  {
   "cell_type": "code",
   "execution_count": 10,
   "metadata": {},
   "outputs": [
    {
     "data": {
      "text/html": [
       "<div>\n",
       "<style scoped>\n",
       "    .dataframe tbody tr th:only-of-type {\n",
       "        vertical-align: middle;\n",
       "    }\n",
       "\n",
       "    .dataframe tbody tr th {\n",
       "        vertical-align: top;\n",
       "    }\n",
       "\n",
       "    .dataframe thead th {\n",
       "        text-align: right;\n",
       "    }\n",
       "</style>\n",
       "<table border=\"1\" class=\"dataframe\">\n",
       "  <thead>\n",
       "    <tr style=\"text-align: right;\">\n",
       "      <th></th>\n",
       "      <th>Open</th>\n",
       "      <th>High</th>\n",
       "      <th>Low</th>\n",
       "      <th>Close</th>\n",
       "      <th>Adj Close</th>\n",
       "      <th>Volume</th>\n",
       "    </tr>\n",
       "    <tr>\n",
       "      <th>Date</th>\n",
       "      <th></th>\n",
       "      <th></th>\n",
       "      <th></th>\n",
       "      <th></th>\n",
       "      <th></th>\n",
       "      <th></th>\n",
       "    </tr>\n",
       "  </thead>\n",
       "  <tbody>\n",
       "    <tr>\n",
       "      <td>2015-04-22</td>\n",
       "      <td>212.500000</td>\n",
       "      <td>221.880005</td>\n",
       "      <td>211.690002</td>\n",
       "      <td>219.440002</td>\n",
       "      <td>219.440002</td>\n",
       "      <td>7863000</td>\n",
       "    </tr>\n",
       "    <tr>\n",
       "      <td>2015-04-23</td>\n",
       "      <td>218.270004</td>\n",
       "      <td>221.479996</td>\n",
       "      <td>217.149994</td>\n",
       "      <td>218.600006</td>\n",
       "      <td>218.600006</td>\n",
       "      <td>4411200</td>\n",
       "    </tr>\n",
       "    <tr>\n",
       "      <td>2015-04-24</td>\n",
       "      <td>220.500000</td>\n",
       "      <td>220.800003</td>\n",
       "      <td>218.009995</td>\n",
       "      <td>218.429993</td>\n",
       "      <td>218.429993</td>\n",
       "      <td>2427800</td>\n",
       "    </tr>\n",
       "    <tr>\n",
       "      <td>2015-04-27</td>\n",
       "      <td>222.559998</td>\n",
       "      <td>238.750000</td>\n",
       "      <td>222.000000</td>\n",
       "      <td>231.550003</td>\n",
       "      <td>231.550003</td>\n",
       "      <td>11672600</td>\n",
       "    </tr>\n",
       "    <tr>\n",
       "      <td>2015-04-28</td>\n",
       "      <td>234.750000</td>\n",
       "      <td>235.500000</td>\n",
       "      <td>228.029999</td>\n",
       "      <td>230.479996</td>\n",
       "      <td>230.479996</td>\n",
       "      <td>6085400</td>\n",
       "    </tr>\n",
       "  </tbody>\n",
       "</table>\n",
       "</div>"
      ],
      "text/plain": [
       "                  Open        High         Low       Close   Adj Close  \\\n",
       "Date                                                                     \n",
       "2015-04-22  212.500000  221.880005  211.690002  219.440002  219.440002   \n",
       "2015-04-23  218.270004  221.479996  217.149994  218.600006  218.600006   \n",
       "2015-04-24  220.500000  220.800003  218.009995  218.429993  218.429993   \n",
       "2015-04-27  222.559998  238.750000  222.000000  231.550003  231.550003   \n",
       "2015-04-28  234.750000  235.500000  228.029999  230.479996  230.479996   \n",
       "\n",
       "              Volume  \n",
       "Date                  \n",
       "2015-04-22   7863000  \n",
       "2015-04-23   4411200  \n",
       "2015-04-24   2427800  \n",
       "2015-04-27  11672600  \n",
       "2015-04-28   6085400  "
      ]
     },
     "execution_count": 10,
     "metadata": {},
     "output_type": "execute_result"
    }
   ],
   "source": [
    "df=pd.read_csv('TSLA.csv', index_col=0)\n",
    "df.head(5)"
   ]
  },
  {
   "cell_type": "code",
   "execution_count": 11,
   "metadata": {},
   "outputs": [
    {
     "name": "stdout",
     "output_type": "stream",
     "text": [
      "[-0.0038279073657681846, -0.0007777355687720479, 0.06006505709131232, -0.004621062345656612, 0.008547383869270914, -0.027532777296615962, -8.849369491025086e-05, 0.019820360216875457, 0.01058523297438791, -0.01081778936447035, 0.02764401420608449, -0.0008023733006455777, 0.012171945343933224, 0.021921582906977686, -0.006374160203191725, 0.0037832594229903734, 0.019418229756208927, -0.00036166211801411975, -0.006472365829145659, -0.011289119573072465, 0.005197417511010863, 0.008590509905351894, -0.0010898518724394182, -0.00012128828558533821, 0.016247035984841174, -0.0025849831288725336, -0.005382798978674458, -0.004409665316612599, 0.002577004165644999, -0.012329840308248421, 0.013093693177404893, 0.028698763862481914, -0.0011315657646256423, -0.020703136718749904, 0.0028320981591395482, -0.0028638558074245216, -0.00123657504298879, 0.010943325925726515, 0.02880060502529639, 0.005683387647426903, 0.0023673869353133497, -0.010361513452382348, 0.030332205731591417, -0.009339858327723846, 0.013651603961719513, -0.006324688206696003, -0.018982391987455702, 0.023815057102380126, 0.003317617113337056, 0.04038638395808405, -0.0010713092342848484, -0.04232802787670513, -0.0482305426267257, 0.01160968747541646, 0.004768846688915177, 0.011614933705150009, 0.013312442579913819, -0.009448443654020889, 0.013452830425657683, 0.029923545858200132, 0.027670595970718793, -0.05487855328850875, 0.004123424842964654, -0.0025011498581616128, -0.006699131435667751, -0.04672020200112722, 0.046678045268527604, -0.003776149737810407, 0.011257682970192714, -0.0023989466562070747, -0.02314485868446052, 0.024193273748731845, 0.014458487360892435, -0.08884610948717082, -0.014707715136153153, -0.00564923519956369, -0.01563408814644641, 0.0033702785392061676, 0.01822226576161805, 0.0026390623611202515, 0.04869426811501371, 0.022471453341867266, -0.020980365829317286, -0.051204728697355435, -0.04711367301096595, -0.05156653288440374, 0.005299968138620439, 0.021860641830025878, 0.08072411191467903, 0.022593484863708827, 0.0023341999731841894, -0.04187743147737448, 0.037966713364482436, -0.008559065698582445, -0.014822714078433656, 0.025792606045336293, 0.0029818511744518867, -0.001727564152062024, 0.0070831013696570095, 0.011788670640411891, 0.0015008689008185357, 0.034231150216437176, -0.0006863412774071477, -0.005532918538060551, 0.013736540053267968, -0.012339174307077708, 0.00045986050080590806, 0.007890894873905614, -0.023601364844963613, -0.03300771035759273, -0.007164992352594205, 0.007095074164080458, -0.034299473453288445, 0.032057703183723016, -0.005735803852847099, -0.0190533703608378, -0.039343989582506726, -0.022590126926492215, -0.0265966786053427, -0.023154651111018547, 0.01702383322178461, -0.010809555302166554, 0.02042600930408511, 0.025755713937515034, 0.004801599154257395, -0.06606754319857394, -0.01380088726377005, 0.007758603603381395, -0.012422090438210338, 0.029508819733298226, -0.02280957499789974, 0.012407896009282656, -0.006245313468645817, -0.02220862774160964, 0.03315130832677317, -0.02544547068674071, 0.11173505317777613, 0.0006044078788497945, 0.002545614142544445, -0.03025477263619041, -0.03918697874950539, 0.011916868360277172, -0.02802629150971075, -0.02700291136467633, 0.034364573248085666, -0.0014464934109140691, 0.033037415887850356, 0.003302103301602555, -0.008070369593276982, -0.010272237859011959, 0.002296211251435132, 0.052187853379152424, 0.008578653582035441, -0.0058287897507498, 0.03009644380475193, -0.02192333975358719, 0.003103590605121209, -0.010012470155613065, 0.0032554908573771413, -0.019080188225669856, -0.009703585878159766, 0.01135757596013572, -0.04425949130304988, 0.007188268229872521, 0.01148318225379089, 0.06069925931881625, -0.004775898784186211, -0.01255405978214185, 0.00911217103278148, -0.011222914613200085, -0.0010871928821986458, 0.003787592561439828, -0.0070261089943062325, 0.03599041322546934, 0.003794401081037102, 0.00806417334729195, -0.06916374878471213, 8.947226911114321e-05, -0.01964821258352729, -0.015476621203142648, -0.021562690143177063, -0.014928881516587642, 0.010199638868424956, -0.046006586436126, 0.0293045532355304, -0.0057715978290871295, -0.0013171569023572643, -0.029406037371013886, 0.00639156527012932, 0.012901945227274402, -0.03046160409091671, -0.014359949731134816, -0.028363251997967076, 0.008666932202538773, 0.00790722205441047, 0.030020947123759613, -0.07190008559053426, -0.05088085704607102, 0.010664088325203833, -0.07260591943642367, -0.08985240135846004, 0.0017568416191350458, -0.030893774030354183, 0.047330709923167145, 0.003788077332437746, 0.027343784371070594, 0.0870657677007897, -0.011323150813742303, -0.0011393056031826483, 0.06699485452041229, -0.0029818723140014416, 0.010100970200853166, 0.047094932960893836, 0.015525812883106649, 0.008353457147282965, -0.029073032894863852, 0.010678776152011378, 0.03929069319933516, 0.027076672446186896, 0.021140072363611755, -0.013103351803416808, 0.030207279460791273, -0.016960559520119975, 0.011307179448046887, 0.036867440963855386, 0.014826874687247226, 0.01644223259947316, 0.020051422251880835, 0.028094354004453644, 0.023975259431656404, -0.01711984676133384, -0.049778017209314705, 0.023227594364025536, 0.011020834248079174, -0.0005645357544633365, -0.014079024593077142, 0.012693397737641061, 0.03403399862411973, 0.039563993258369276, 0.03433335693077945, 0.038947868481826235, -0.030969785989724778, -0.02772163556508714, -0.0005998680201579831, -0.008402652916154461, 0.027076070577304347, -0.010489914786036867, 0.010521694550458012, -0.002475305537607861, -0.025642074491057168, 0.010510595676730926, -0.0067208384737333276, 0.021990443247545583, -0.007605883743842461, 0.0076244855318425625, -0.008946180954004476, -0.01495205784009194, -0.028057049790483266, 0.004319687745465949, -0.039205938305964375, -0.04201105675758683, -0.049559665254849505, 0.01607334191875069, -0.027962570119285452, -0.0011008807304315592, 0.001293808986594509, -0.008039854248282135, 0.0015920590582403826, 0.0032753335423372507, -0.01742757272069219, 0.031808823769982814, 0.0191315482230577, 0.0235583468941574, -0.018431078710873173, 0.00781612705662714, 0.007663705058717692, 0.0252299524070503, -0.009239525791567326, 0.0008518786135363184, -0.01644043392806401, -0.002732697237499597, 0.00013700218780125344, 0.007717192389671194, 0.052836701875371, 0.013686872922215317, -0.026154903597912716, -0.04608479226506445, -0.004204936374763687, -0.013356534019289929, 0.012746510563707018, 0.001056481410975857, -0.011287991919497085, 0.019631484570327994, -0.00040963132102383196, -0.10450342377622397, -0.0013221295368224567, -0.01654786201266381, 0.027957593413127476, 0.016318257119341255, 0.04162748050642934, 0.009943370189415763, 0.01987940936442141, -0.011639741339491918, 0.002149761700154405, 0.00699496356094979, 0.0038899555071785145, 0.03690377358106731, -0.0005783655155191973, -0.009436879842516089, -0.004493776140267722, -0.0051009118634088, 0.026542677673575654, -0.0043757127071821795, 0.013761902107828558, -0.034419342115872484, 0.008027229024943312, 0.03482247204170668, -0.0021738185768840172, -0.004444207320905845, 0.009278287687026026, 0.01812580539384338, -0.020358610428511652, -0.012216851706813902, -0.006206003603072296, 0.021347305679751596, -0.002515077392501944, -0.016823870872598738, 0.012911204228666323, -0.014972970010712742, -0.00327937079404477, 0.0031123426595109026, -8.867071455754131e-05, -0.008776962786949127, -0.0016546487113517552, 0.0012094158482036585, 0.006666390914643293, -0.009200031111111001, 0.008567725563961959, -0.009873692579144007, -0.007456598855821674, -0.0043899437421724115, -0.02177375285754434, -0.01793680787086646, 0.0031702423236539047, -0.053016325951991225, -0.014892687853908676, 0.025533436270267166, -0.0055218408961016955, -0.02156564299757328, -0.014643291372905974, 0.019694564613078846, -0.011346444608979657, 0.0018362713312481363, 0.020416444775389227, 0.024847799868753618, 0.0045764460927880685, -0.00823881473759453, 0.0028342552914105883, 0.005896072478822373, 0.004941161820414344, 0.007423514207136867, -0.015216072175317615, 0.002235100356980679, -0.02700347550291415, 0.016591938464254226, 0.047394981362520225, -0.010715924343227807, -0.013953913931149616, -0.03578627434278086, -0.021840791044776063, 0.022074136503361215, -0.0042298632131852615, 0.007046421577818423, -0.0063023672845607835, -0.01862769629874906, -0.012976378122649613, 0.02650030323003643, 0.02240076276039891, -0.021909962879838502, 0.004972325314746487, 0.013343990471167877, -0.002071409599314788, -0.0004941731836348787, 0.008751928185523962, -0.0198029219107623, -0.011201705199771423, -0.03509838234154427, -0.014518523516062929, -0.003191181721281144, 0.01675381513983377, 0.013906428567447882, 0.00895396168584567, -0.025033363855202922, -0.02478160606946865, 0.017318542735844312, -0.03770683642031016, 0.012785930219662688, 0.0008705936579290488, 0.02571636590014995, -0.01929396757566068, -0.0027024104917866072, 0.036039420419696024, 0.010304969506773738, 0.01817331996568978, -0.002695138653296901, -0.03339785930547258, -0.0008968349091215232, -0.03970427264110674, -0.002254255491141068, 0.029371256795220978, -0.005085636963292748, 0.03927892259524589, -0.004452503374139432, -0.000572052649666409, 0.0013008638209285397, 0.029725101117682815, 0.002725248631599758, -0.00558659212253662, 0.024850708322191377, 0.0011851992398341014, 0.029891960339208913, -0.005220537557084861, 0.0036109774233651047, 0.023458858577004388, 0.02901473289612346, 0.0009566164121375318, -0.02302726806618551, -0.004611473040247545, 0.015442945243643058, 0.04608507198292383, -0.0010573373043450442, 0.009966901874311056, 0.009912248589848665, -0.006096523720583442, -0.000609035555075456, -0.0006094110583626823, 0.03554163570785556, -0.009127226077812797, 0.011800657850406059, 0.022654782586613808, 0.003979328109191862, 0.017120917208693912, 0.022858762034860657, -0.000549860568909918, -0.00770230672494844, 0.001742513202299151, -0.009171741559657111, 0.005186880956252791, -0.01067752183043984, 0.009268167042445725, -0.0008745815836860393, 0.02562363008296957, -0.001124948645592793, 0.017865371304493328, 0.027167373905585542, 0.00011143758790016414, 0.0422315289360517, 0.0013542587023322545, -0.004341949434972326, -0.038640254552464476, 0.012195571123454626, 0.018954574409505553, -0.0139875438558954, -0.0640561747630372, 0.00394544701071447, -0.041906630350194554, 0.015270312557694912, 0.00012000079763201768, 0.0018398207849000744, 0.0043516888270789325, -0.001431013197054072, -0.010429564615234477, -0.006919027425383474, -0.007979912666178911, -0.004940759614718487, 0.010176847550766567, 0.04805622982537461, -0.00879846511627907, 0.024713534191741767, -0.002098790403302689, 0.0016061682600381764, -0.04291394105879171, 0.01727302585332371, -0.0009019097467140449, 0.03289114150597034, 0.026827773570029103, 0.02675601722020587, -0.00025232293015735156, 0.0019468166063375777, 0.001367209924533221, 0.07265541455934243, 0.01735234889078066, -0.028646729194070675, 0.012542413559322086, 0.012855697508308042, 0.03255769718708512, -0.011780222873000607, -0.038450310472782905, 0.024120752245260155, -0.008421046052631604, -0.00394772423070775, 0.0175520033305579, -0.00985198713135587, 0.010214524802005675, 0.007951547618752417, 0.01869950984871433, -0.011536364754048031, -0.00496504476723867, 0.017626290094509743, 0.02789180693717131, -0.01220447962908728, -0.024679436889863095, -0.05002893238479282, 0.043626938985454736, -0.0037619717121069713, 0.045802297953694567, 0.012326436147468044, -0.006518648894536965, 0.0052924542502175, -0.02749297452352444, 0.003577323610590799, -0.03438385115977892, 0.022704300220719727, -0.007123270345130425, -0.0015441914232039952, -0.020911940952242202, 0.020930745455015977, 0.021307414024539475, 0.026228666290984595, 0.030632929016749914, 0.017636538030978175, -0.0018768217390451537, -0.0015277169187607432, 0.02198028797445414, 0.01592191318826051, 0.019271610838515855, 0.02877799575328231, -0.034270251351351415, 0.004729662394750952, 0.04718531942883707, 0.01252824005761702, -0.013975747239260865, -0.010497154691715808, -0.004308039918815959, 0.006598166790638168, 0.01117559668965179, 0.016498382303374855, 0.0021955177149912083, -0.015543152467028839, -0.040054028982331326, 0.02447773028227671, -0.028256627202257974, 0.0023838808038807893, -0.02486101151216822, -0.07240088299587218, -0.055825641943509544, 0.01421498618914863, 0.009035141405289816, 0.035342551571303914, 0.007028873519256672, -0.01854207697245339, 0.013512244352218669, -0.025047263484798705, 0.02713015242384747, -0.009078662231253283, 0.01432700872142247, -0.0046072349057527185, 0.04299633147983559, -0.008525000273779648, 0.01251472298266096, -0.027308462516065814, 0.0018238833236109643, -0.0346196489022069, -0.0120567409278859, 0.019776599372794176, 0.06505256382279764, 0.028292397110748276, -0.004875153345379559, 0.02829627398752266, -0.004627353363377095, -0.02236405529767583, 0.006949918519132065, 0.01657024361598118, -0.0040406845752836255, 0.0016007976728682905, -0.030282965139754127, -0.012673396894879011, -0.02762909759011652, 0.010329784984747492, 0.033455347295350574, 0.0004535646596627439, -0.013827118966338571, -0.0068667837448681945, 0.004918072615656105, 0.01675497538958044, 0.007701458332607101, -0.0014048890374524705, -0.01634777180103162, -0.01447408981348526, 0.01764718897526239, -0.02056413481778051, 0.059085638772608716, -0.0025846242537071245, 0.009593414197105419, 0.031155294916560005, 0.005746168080201993, 0.013664732438138694, -0.02571427012987011, -0.003172492617875332, -0.01987107304034589, -0.0419941457598352, -0.01737447967614551, 0.0007536740413831211, -0.01239681100651711, -0.0040179341173183164, 0.004416961052703868, 0.0012606068379841203, 0.019354130001329614, 0.019733425357610836, 0.0009013182473361649, 0.004362193050709131, -0.039060756569984895, 0.036886901283682834, -0.0027840771988421674, 0.0030456485666275394, -0.00030922740149752807, -0.013977559698953933, 0.01468908702756837, 0.0109627378777231, -0.02179896046376685, -0.019072772343439768, -0.02341355218637695, 0.000949519347352348, -0.03409023577506653, 0.0010128191874885673, -0.016249249743261855, -0.0024620812550578317, 0.0357723458667849, -0.03152056233680384, -0.06795807239147544, 0.02282291576478916, -0.010813803271113615, 0.010799884440187056, -0.005423862326699322, -0.0045994445645663766, 0.0, 0.0409584620270789, -0.021242809535373604, 0.008422338512898956, 0.0038548411379958525, 0.008159961599999951, -0.020028561308816833, 0.029377496578917525, -0.016393417553842972, 0.009436922403641851, 0.003993059888818701, 0.002335753305361207, -0.03152252992684726, 0.004259598626727002, -0.007511759607995524, -0.004338847761520453, -0.004914809767438672, 0.03147842483457, -0.006448381330256756, 0.01249844211857225, 0.04372798140881581, 0.03684897039495344, -0.005864586710449481, -0.00336248710545531, 0.016455049729717553, -0.013335323453125976, -0.02292911474797292, -0.006402884208948088, 0.008146370327648948, -0.019477754091807825, -0.02432350156247847, -0.01780703406894855, 0.011936753372316419, -0.012715560599738066, 0.02948447992000368, -0.01023304842053187, -0.008290007880220593, 0.006229712132568051, 0.06263825198779857, -0.008085377865279006, 0.0033263987333968493, 0.009408674172354005, -0.005119132826070286, 0.011421084375048943, 0.02087868623700929, -0.007460528200708395, 0.015816762600582453, 0.004399774436882225, 0.0034987228552663444, -0.019558359998794617, -0.02385151245259277, 0.015430608839417336, 0.019483718486503467, -0.010614230568518544, 0.0245503175876115, -0.01428127354170798, -0.015748031496062992, -0.03089453090909096, 0.0025215260930938513, 0.03302691549232901, -0.08628982318840582, -0.015258693119799459, 0.017105849422150522, 0.02511637387552628, -0.004171062174243833, 0.036486640417527375, 0.004250555183782189, -0.0021461176829745887, -0.004391077600447706, 0.03861393778388014, 0.01698580113581358, 0.0152535866582674, -0.017990103424902527, -0.02259321412556515, -0.03535826115174169, 0.012661294197047871, -0.005281657395584556, -0.015449209261451137, 0.012492309110579709, -0.009629798722713096, -0.005864457504750165, 0.05605647299955953, -0.010622019315735707, -0.044494474543581505, -0.003153412069414674, -0.013052825312294373, -0.02424150569332804, -0.009599470656968248, 0.01925619459370273, -0.023473266431217547, -0.024458093993049, 0.008755004049893846, -0.08218817994384002, -0.07665303580690322, 0.03239198553957613, -0.05129075543360841, 0.059608694702292506, 0.07255262240702942, 0.06544921889280525, -0.02099964993785272, -0.032208434301707924, 0.05192297104297492, -0.01237288759936114, -0.022762789217889646, 0.021286756245673964, -0.03039889832055529, -0.012087459595436785, 0.01967396837099683, 0.022941813064084306, -0.032791247088397264, -0.023670049740561114, 0.0003175918466596475, -0.009772063387950964, 0.017065121542875608, 0.030124617026163793, -0.0006120545700378601, 0.02048322260258362, 0.004101030096981256, -0.05545403397882843, 0.033889905408054505, 0.029514750987993568, -0.0026422301716305233, 0.016160562253997014, -0.005963881258649863, -0.012982726191102191, -0.030193307182577074, -0.02668085068095727, 0.008093525429849546, -0.0067718581594162, -0.027131516678907612, 0.027707473470297263, -0.03332271901728407, 0.014763088078139239, -0.004371666497288503, 0.003599064165577164, 0.01760804695840679, 0.02805184211827433, -0.023961298423278075, 0.024900768187727094, 0.016859649379694527, -0.018905389192740738, 0.09744785667145514, -0.010672938967136197, 0.004966965167730364, 0.045457413014450485, 0.03212882507445664, 0.005864019793168131, 0.03753118521239956, 0.0012580006673991238, 0.035346270040758646, -0.04929482415347395, 0.027428771320792057, -0.04061065363422586, -0.03994130989205186, -0.0018583310574837547, 0.02699615546091235, 0.007309941520467836, 0.015761953555878155, -0.019946792614601656, -0.022977124141345822, -0.07225362310629009, -0.005468638879333343, -0.0008410208197565636, 0.03111044411350824, 0.012432862000161141, -0.010884764440460203, -0.0070541762712803685, 0.006820132175748175, -0.02750333721427759, 0.040599792829413825, 0.0035947937426335725, -0.011177998866549401, -0.020766398437278177, -0.03310152251521077, -0.019030404919640934, 0.03802574476744164, -0.006769437286047671, -0.030882117023618687, -0.023588330860483064, 0.027466663138620125, 0.009056083934254782, 0.16188011450445577, -0.00391942542977967, -0.01775001513412933, 0.1098863069062343, -0.024317018810182205, -0.048306918489030744, 0.008625274213354154, 0.002588016613351159, -0.024606461383165915, -0.02574505987177573, -0.009566240458435432, -0.08928308519482185, 0.009623574468085082, 0.04363893111374056, -0.000807639033382483, -0.0047879894546081206, 0.008497347544566956, -0.010996895864635696, -0.023209209306547178, -0.021964905180124256, -0.006098212973403823, -0.004915025662180873, -0.04213350073415765, -0.028413295238070582, 0.0007481014728255768, -0.0630362030381406, 0.08456165797605457, -0.02122591243432577, 0.03972232651215056, -0.003717278056530918, 0.0198301014940611, -0.0012195663460881907, -0.0335097175893327, 0.049340252821667194, -0.0023075447307303347, 0.002581098225301738, 0.0019391072830671119, 0.004371319509474071, 0.0285391451057892, -0.006654170445455853, -0.13901535356779685, 0.17347140880079126, -0.031155528246326572, -0.02066308294230927, -0.04399593462670008, -0.07053889194551892, -0.04348163190769393, 0.048850535191974166, -0.022526572565901345, -0.018101872117294544, 0.02596837451482191, 0.003130060294961022, 0.06548788575042007, -0.01739035058954176, -0.028957226539691083, -0.01481567178484077, 0.003653892307692366, 0.1271891223365799, -0.019174592753046556, 0.0913690987868284, 0.05094330738788544, 0.011937177611432702, -0.014782774111701869, 0.02249170395559323, 0.0206332024652189, 0.006186839218620953, -0.01446265968692989, -0.0009958875394707391, 0.020817469189101465, 0.009306037347127264, -0.002532680748992756, -0.05486294385715258, 0.022488565631757194, 0.015558081152720801, 0.012906982558139513, 0.016846504323002543, -0.002370796773282247, -0.016918015625320325, -0.026763326333515348, -0.036547547020624155, 0.061903488950512044, -0.006011523121387332, 0.011485176351165218, -0.019260016949722937, 0.02728844167204111, 0.022854310513018065, 0.0033753299499381774, 0.009341078365046015, -0.01401971307232817, 0.020057527111049803, 0.004409190815980213, -0.0004362634846694843, 0.02779597063072604, -0.029406347661410513, -0.047277838794401485, -0.03269047005058218, -0.012046399466060776, -0.05282756989270029, 0.013919664945150937, -0.07624222046678684, 0.10393032750277621, -0.030543687700250708, 0.056116122226360754, -0.00320486122150639, -0.0681490198851809, -0.03147172113168653, 0.05769748923113043, 0.05436113472655022, 0.001164362940289204, 0.009482609044593322, 0.019023430771344833, 0.006638284469263328, -0.03703281584309126, 0.029994016686495612, 0.004703408625624425, 0.00364112135151995, -0.12971117520204525, -0.011050079036257689, -0.03790317311407316, 0.013630564534658005, 0.018970185620726967, -0.002221936372214475, 0.003643923280182209, 0.038021913340271725, -0.005667649261081523, 0.01690444331297267, 0.0021780981378011154, 0.0270382261958727, -0.012852045815739115, -0.03060964305337086, -0.005560866132455452, 0.023021609798101104, -0.0032924114984325017, -0.011673727665397132, -0.014277910940023791, 0.01353002649646201, -0.007275529308894151, -0.010077270150637828, -0.03744707520787337, 0.011949249282554236, 0.01377624825756249, -0.003045834700619863, 0.05667093886411088, 0.01633098800060331, -0.07843564964305907, -0.03198895387258529, -0.030908243845050653, -0.0010849026912413975, 0.0012670359566694439, 0.027296789866543186, 0.023861468438368238, -0.02598662059045071, 0.019762868070451117, 0.003460686708008653, -0.050110354707522314, -0.021566289623367367, -0.007495599372726274, 0.022918476752837938, 0.001535025551132488, -0.03463247347258297, -0.015536937268124544, 0.028223545169702557, 0.026365904657074946, 0.013790372882417667, 0.004450470254297354, 0.033302395839119446, -0.0114115363437333, 0.020742944229345542, -0.08234810035535511, 0.02681302571817535, -0.0064008548792830995, -0.0032577377778446356, 0.01377106983783974, -0.027675088949323343, -0.0026823670558423227, -0.004930918718076233, 0.026203092833488054, -0.00779182805413164, 0.007484418824139753, -0.038461573649214244, 0.004376761179828706, -0.019855968621204204, -0.04264284709436574, -0.05043817690832727, 0.02692014130696645, -0.011512813138224883, -0.019607050822346386, 0.043117863405791594, 0.04477670107062605, 0.001215531510863367, -0.032427344441565586, -0.008985679664742903, -0.011681098050663198, -0.0101660965396495, -0.05222949562074977, 0.023347002848927313, -0.0015496577981976595, -0.015606790458376324, -0.07576754192819556, -0.026868208438933935, -0.0013634544148643808, -0.06022043046400988, 0.014320599062327572, -0.0248606060447949, -0.010124366308441397, 0.00614734508978299, -0.008637943702528553, -0.016257554902467466, -0.03343056203433663, 0.08174557142680025, 0.015444162744498972, 0.047611786919208296, -0.007040529357230319, 0.040978019559902115, 0.019823378903058676, -0.03611244027326284, 0.022221203818723265, 0.004721583755381434, 0.04704076444296282, -0.001288690402563011, 0.007519747096205932, -0.030075512125286363, 0.010199462940521264, 0.00802306856565837, -0.017349329356775686, -0.0022296642298341505, 0.01628126024934986, 0.002782314715173506, 0.016602483145899134, -0.011533191103871108, 0.046092143672783734, -0.007662784359202601, -0.011840454435681234, -0.0012155856770961209, 0.038511692936726814, -0.0013393269825826173, 0.027158406693418104, 0.03435612017009855, -0.004418126232741685, 0.009826436131499403, -0.005179345502709831, 0.018300860330149233, -0.009683167045403087, 0.017561092470774427, 0.018103516026652926, -0.13613710857488096, -0.003408854016860361, 0.033897611108942585, 0.027526788352601597, -0.0026830430670158694, -0.03211785508829155, 0.0020953174574644975, -0.02568912308080781, 0.010642926267955242, 0.011570955579631604, 0.020906542035014426, -0.01380616012833178, -0.025530829018570036, 0.02615608545819132, -0.06544682978723397, -0.01812219329118917, 0.01994065581497232, 0.03132672518571685, -0.004276334662290506, -0.022270428485475724, 0.005977412435109179, -0.04839072829324497, 0.01702935715315114, -0.0042790604651162445, 0.007053409874314078, 0.02838726802518242, 0.017590518591251467, -0.002659483167148919, -0.01924359848992489, 0.04032993149496784, -0.009277833354143724, 0.019081099394342858, 0.016178437867246494, 0.04907876939607448, -0.00497778620045841, -0.0027250092065930717, -0.009747141228554, 0.00815450358843956, -0.0053106255859080055, 0.012772602308665771, -0.02424984125912791, 0.002535121821442905, -0.07470044894416866, 0.024595626664713266, 0.060603415749060904, -0.0017727284117145501, -0.00520385732449791, 0.01585920654002577, -0.006375401476354599, -0.04154158595110444, -0.006866094523735579, 0.027178879964793252, 0.009801455452627261, 0.01866276169136335, 0.0008588148728530274, 0.012870776888314804, 0.03658877742784607, 0.00361933387521018, 0.007212318786363228, 0.008546683349374275, -0.019162457460157635, -0.01342678279384558, 0.008205136094674586, -0.0035214374871160026, 0.17669232463030574, 0.0949346391635826, -0.0012800231420469475, -0.03506145773871153, -0.0038264214666166724, -0.00028569568313095635, -0.005112456920926063, 0.013277594160911394, -0.000787475979502076, 0.029506292070152443, 0.02743591878457629, 0.0047684507274362254, 0.0235806509055295, 0.014025318195546995, -0.010916492088176133, 0.009361246830252565, 0.008072153861648926, -0.006190257317564417, 0.027229347330762325, -0.020304818155743885, 0.007410101619981681, -0.061409629395274355, 0.009908680371192241, -0.022060959410845692, 0.007205387043445164, -0.0040750006439222415, 0.014942089380238364, 0.00397174133203543, -0.009428949693196272, -0.00798728044917063, 0.01670859970197956, 0.01083683300320799, 0.027420248659677203, 0.011065290804555651, 0.019790135419672197, -0.0035864602566315637, 0.06448278141900798, -0.006579318479685511, 0.03736247492974687, 0.027699389968704937, 0.0038362215757697087, 0.03360537768293472, 0.014383853312380563, 0.013380369194591266, -0.001299477879521505, -0.036432903057380575, 0.008753255112035061, 0.028518211389899593, 0.029633244325913535, 0.0192546416727695, 0.03880052409707966, 0.04920482901635111, -0.02194501294514748, -0.006627336241553332, 0.09768899212827321, 0.024882822797017125, -0.03610199214331847, -0.00966250723240109, -0.0058228788452137775, 0.07189032713026447, 0.04086254661851149, 0.004635181559924001, -0.012897596723573613, -0.01203921057279401, 0.015913414719421686, 0.024854410660600013, 0.10296220077733186, 0.015230737707684716, 0.1989486013916408, 0.13725640769230776, -0.17175837749815887, 0.01940929599440372, -0.0011883344555872015, 0.03102653733315628, 0.0040192613362739745, -0.009155746473593367, 0.04784373972365371, -0.004937774875621874, 0.07295975511439211, 0.06875577510468472, -0.019631150763804506, 0.001767855647293299, -0.0745949189789123, -0.040633739783329445, -0.02639045106642276, -0.12814585200019288, -0.0162150368188512, 0.11322026696837176, 0.002541640908942945, 0.005352027399337045, -0.03330223082054701, -0.02906671631582497, -0.13572522703489012, 0.06139805427631578, -0.017200558950599756, -0.11617235754134482, -0.024850581211679497, -0.1857780339703819, -0.0334104629971168, -0.16034404713126796, 0.18387689999480428, -0.00025726310948714676, 0.01581177932732614, 0.16281744809837428, 0.06782178217821783, -0.02056565044042645, -0.02612842454079741, -0.023777082892635897, 0.04355444761760456, -0.08099237022900752, -0.056254666318858344, 0.056197348436206246, 0.07547755097857245, 0.05658225353677072, 0.006215079155594461, 0.04402006379173951, 0.13603841535776617, 0.09054459161758191, 0.028088861061103858, 0.02107340701499262, 0.011647713723313401, -0.009988234159063804, -0.07990783964657477]\n"
     ]
    }
   ],
   "source": [
    "newdf=[]\n",
    "for i in range(1,df.count()['Close']):\n",
    "    profit=(df['Close'][i]-df['Close'][i-1])/df['Close'][i-1]\n",
    "    newdf.append(profit)\n",
    "print(newdf)"
   ]
  },
  {
   "cell_type": "code",
   "execution_count": 12,
   "metadata": {
    "scrolled": false
   },
   "outputs": [
    {
     "data": {
      "text/plain": [
       "(array([  1.,   1.,   0.,   1.,   0.,   0.,   3.,   2.,   0.,   1.,   1.,\n",
       "          0.,   4.,   5.,  10.,   7.,   5.,  19.,  22.,  40.,  66.,  85.,\n",
       "        124., 185., 175., 147., 107.,  99.,  48.,  28.,  21.,  11.,  11.,\n",
       "          6.,   2.,   3.,   4.,   2.,   3.,   0.,   1.,   2.,   0.,   0.,\n",
       "          0.,   2.,   1.,   1.,   1.,   1.]),\n",
       " array([-0.18577803, -0.1780835 , -0.17038897, -0.16269444, -0.1549999 ,\n",
       "        -0.14730537, -0.13961084, -0.13191631, -0.12422177, -0.11652724,\n",
       "        -0.10883271, -0.10113817, -0.09344364, -0.08574911, -0.07805458,\n",
       "        -0.07036004, -0.06266551, -0.05497098, -0.04727645, -0.03958191,\n",
       "        -0.03188738, -0.02419285, -0.01649831, -0.00880378, -0.00110925,\n",
       "         0.00658528,  0.01427982,  0.02197435,  0.02966888,  0.03736341,\n",
       "         0.04505795,  0.05275248,  0.06044701,  0.06814155,  0.07583608,\n",
       "         0.08353061,  0.09122514,  0.09891968,  0.10661421,  0.11430874,\n",
       "         0.12200327,  0.12969781,  0.13739234,  0.14508687,  0.15278141,\n",
       "         0.16047594,  0.16817047,  0.175865  ,  0.18355954,  0.19125407,\n",
       "         0.1989486 ]),\n",
       " <a list of 50 Patch objects>)"
      ]
     },
     "execution_count": 12,
     "metadata": {},
     "output_type": "execute_result"
    },
    {
     "data": {
      "image/png": "[encoded data removed]",
      "text/plain": [
       "<Figure size 432x288 with 1 Axes>"
      ]
     },
     "metadata": {
      "needs_background": "light"
     },
     "output_type": "display_data"
    }
   ],
   "source": [
    "newdf.sort()\n",
    "plt.hist(newdf,bins=50)"
   ]
  },
  {
   "cell_type": "code",
   "execution_count": 13,
   "metadata": {},
   "outputs": [
    {
     "data": {
      "text/plain": [
       "(array([ 15., 129., 208., 223., 169., 140.,  90.,  60.,  30.,  31.,  31.,\n",
       "         23.,   9.,  17.,  17.,  11.,   9.,   6.,   9.,  10.,   2.,   3.,\n",
       "          2.,   3.,   4.,   3.,   0.,   1.,   0.,   0.,   0.,   0.,   1.,\n",
       "          0.,   0.,   0.,   0.,   0.,   1.,   1.,   0.,   0.,   0.,   0.,\n",
       "          0.,   0.,   0.,   0.,   0.,   1.]),\n",
       " array([  708000.,  1912616.,  3117232.,  4321848.,  5526464.,  6731080.,\n",
       "         7935696.,  9140312., 10344928., 11549544., 12754160., 13958776.,\n",
       "        15163392., 16368008., 17572624., 18777240., 19981856., 21186472.,\n",
       "        22391088., 23595704., 24800320., 26004936., 27209552., 28414168.,\n",
       "        29618784., 30823400., 32028016., 33232632., 34437248., 35641864.,\n",
       "        36846480., 38051096., 39255712., 40460328., 41664944., 42869560.,\n",
       "        44074176., 45278792., 46483408., 47688024., 48892640., 50097256.,\n",
       "        51301872., 52506488., 53711104., 54915720., 56120336., 57324952.,\n",
       "        58529568., 59734184., 60938800.]),\n",
       " <a list of 50 Patch objects>)"
      ]
     },
     "execution_count": 13,
     "metadata": {},
     "output_type": "execute_result"
    },
    {
     "data": {
      "image/png": "[encoded data removed]",
      "text/plain": [
       "<Figure size 432x288 with 1 Axes>"
      ]
     },
     "metadata": {
      "needs_background": "light"
     },
     "output_type": "display_data"
    }
   ],
   "source": [
    "plt.hist(df['Volume'],bins=50)"
   ]
  },
  {
   "cell_type": "code",
   "execution_count": 14,
   "metadata": {},
   "outputs": [
    {
     "data": {
      "text/plain": [
       "(array([  6.,   5.,  32.,  81., 118., 143., 126., 103.,  61.,  62., 110.,\n",
       "         91.,  98.,  97.,  29.,  13.,   3.,   3.,   8.,   3.,   1.,   5.,\n",
       "          1.,   5.,   5.,   3.,   5.,   5.,   1.,   0.,   1.,   1.,   4.,\n",
       "          1.,   1.,   1.,   2.,   2.,   5.,   4.,   3.,   2.,   3.,   0.,\n",
       "          1.,   0.,   1.,   0.,   3.,   1.]),\n",
       " array([143.669998 , 159.1449977, 174.6199974, 190.0949971, 205.5699968,\n",
       "        221.0449965, 236.5199962, 251.9949959, 267.4699956, 282.9449953,\n",
       "        298.419995 , 313.8949947, 329.3699944, 344.8449941, 360.3199938,\n",
       "        375.7949935, 391.2699932, 406.7449929, 422.2199926, 437.6949923,\n",
       "        453.169992 , 468.6449917, 484.1199914, 499.5949911, 515.0699908,\n",
       "        530.5449905, 546.0199902, 561.4949899, 576.9699896, 592.4449893,\n",
       "        607.919989 , 623.3949887, 638.8699884, 654.3449881, 669.8199878,\n",
       "        685.2949875, 700.7699872, 716.2449869, 731.7199866, 747.1949863,\n",
       "        762.669986 , 778.1449857, 793.6199854, 809.0949851, 824.5699848,\n",
       "        840.0449845, 855.5199842, 870.9949839, 886.4699836, 901.9449833,\n",
       "        917.419983 ]),\n",
       " <a list of 50 Patch objects>)"
      ]
     },
     "execution_count": 14,
     "metadata": {},
     "output_type": "execute_result"
    },
    {
     "data": {
      "image/png": "[encoded data removed]",
      "text/plain": [
       "<Figure size 432x288 with 1 Axes>"
      ]
     },
     "metadata": {
      "needs_background": "light"
     },
     "output_type": "display_data"
    }
   ],
   "source": [
    "plt.hist(df['Close'],bins=50)"
   ]
  },
  {
   "cell_type": "code",
   "execution_count": 15,
   "metadata": {},
   "outputs": [
    {
     "data": {
      "text/plain": [
       "(array([  6.,   5.,  32.,  81., 118., 143., 126., 103.,  61.,  62., 110.,\n",
       "         91.,  98.,  97.,  29.,  13.,   3.,   3.,   8.,   3.,   1.,   5.,\n",
       "          1.,   5.,   5.,   3.,   5.,   5.,   1.,   0.,   1.,   1.,   4.,\n",
       "          1.,   1.,   1.,   2.,   2.,   5.,   4.,   3.,   2.,   3.,   0.,\n",
       "          1.,   0.,   1.,   0.,   3.,   1.]),\n",
       " array([143.669998 , 159.1449977, 174.6199974, 190.0949971, 205.5699968,\n",
       "        221.0449965, 236.5199962, 251.9949959, 267.4699956, 282.9449953,\n",
       "        298.419995 , 313.8949947, 329.3699944, 344.8449941, 360.3199938,\n",
       "        375.7949935, 391.2699932, 406.7449929, 422.2199926, 437.6949923,\n",
       "        453.169992 , 468.6449917, 484.1199914, 499.5949911, 515.0699908,\n",
       "        530.5449905, 546.0199902, 561.4949899, 576.9699896, 592.4449893,\n",
       "        607.919989 , 623.3949887, 638.8699884, 654.3449881, 669.8199878,\n",
       "        685.2949875, 700.7699872, 716.2449869, 731.7199866, 747.1949863,\n",
       "        762.669986 , 778.1449857, 793.6199854, 809.0949851, 824.5699848,\n",
       "        840.0449845, 855.5199842, 870.9949839, 886.4699836, 901.9449833,\n",
       "        917.419983 ]),\n",
       " <a list of 50 Patch objects>)"
      ]
     },
     "execution_count": 15,
     "metadata": {},
     "output_type": "execute_result"
    },
    {
     "data": {
      "image/png": "[encoded data removed]",
      "text/plain": [
       "<Figure size 432x288 with 1 Axes>"
      ]
     },
     "metadata": {
      "needs_background": "light"
     },
     "output_type": "display_data"
    }
   ],
   "source": [
    "plt.hist(df['Adj Close'],bins=50)"
   ]
  },
  {
   "cell_type": "code",
   "execution_count": 16,
   "metadata": {},
   "outputs": [
    {
     "data": {
      "text/plain": [
       "(array([  6.,   8.,  31.,  78., 108., 158., 109., 117.,  66.,  59., 105.,\n",
       "         94.,  97.,  96.,  33.,  12.,   2.,   6.,   4.,   3.,   2.,   6.,\n",
       "          0.,   8.,   3.,   4.,   2.,   5.,   2.,   0.,   3.,   2.,   1.,\n",
       "          0.,   1.,   5.,   1.,   6.,   2.,   2.,   3.,   1.,   2.,   0.,\n",
       "          1.,   2.,   0.,   1.,   1.,   1.]),\n",
       " array([141.050003  , 156.24940334, 171.44880368, 186.64820402,\n",
       "        201.84760436, 217.0470047 , 232.24640504, 247.44580538,\n",
       "        262.64520572, 277.84460606, 293.0440064 , 308.24340674,\n",
       "        323.44280708, 338.64220742, 353.84160776, 369.0410081 ,\n",
       "        384.24040844, 399.43980878, 414.63920912, 429.83860946,\n",
       "        445.0380098 , 460.23741014, 475.43681048, 490.63621082,\n",
       "        505.83561116, 521.0350115 , 536.23441184, 551.43381218,\n",
       "        566.63321252, 581.83261286, 597.0320132 , 612.23141354,\n",
       "        627.43081388, 642.63021422, 657.82961456, 673.0290149 ,\n",
       "        688.22841524, 703.42781558, 718.62721592, 733.82661626,\n",
       "        749.0260166 , 764.22541694, 779.42481728, 794.62421762,\n",
       "        809.82361796, 825.0230183 , 840.22241864, 855.42181898,\n",
       "        870.62121932, 885.82061966, 901.02002   ]),\n",
       " <a list of 50 Patch objects>)"
      ]
     },
     "execution_count": 16,
     "metadata": {},
     "output_type": "execute_result"
    },
    {
     "data": {
      "image/png": "[encoded data removed]",
      "text/plain": [
       "<Figure size 432x288 with 1 Axes>"
      ]
     },
     "metadata": {
      "needs_background": "light"
     },
     "output_type": "display_data"
    }
   ],
   "source": [
    "plt.hist(df['Low'],bins=50)"
   ]
  }
 ],
 "metadata": {
  "kernelspec": {
   "display_name": "Python 3",
   "language": "python",
   "name": "python3"
  },
  "language_info": {
   "codemirror_mode": {
    "name": "ipython",
    "version": 3
   },
   "file_extension": ".py",
   "mimetype": "text/x-python",
   "name": "python",
   "nbconvert_exporter": "python",
   "pygments_lexer": "ipython3",
   "version": "3.7.4"
  }
 },
 "nbformat": 4,
 "nbformat_minor": 2
}
